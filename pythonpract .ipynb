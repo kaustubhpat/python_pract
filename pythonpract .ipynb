{
 "cells": [
  {
   "cell_type": "code",
   "execution_count": 1,
   "id": "6f48df5e-86a0-4b70-b8e8-11393020b347",
   "metadata": {},
   "outputs": [
    {
     "name": "stdout",
     "output_type": "stream",
     "text": [
      "p\n",
      "n\n"
     ]
    }
   ],
   "source": [
    "#basic of string\n",
    "\n",
    "##Accessing Characters\n",
    "s = \"python\"\n",
    "print(s[0])\n",
    "print(s[-1])"
   ]
  },
  {
   "cell_type": "code",
   "execution_count": 2,
   "id": "b3ebdc46-e36e-4930-9ce6-ff117462de6c",
   "metadata": {},
   "outputs": [
    {
     "name": "stdout",
     "output_type": "stream",
     "text": [
      "yth\n",
      "Pyt\n",
      "hon\n"
     ]
    }
   ],
   "source": [
    "#Slicing Strings\n",
    "\n",
    "s = \"Python\"\n",
    "print(s[1:4])\n",
    "print(s[:3])\n",
    "print(s[3:])"
   ]
  },
  {
   "cell_type": "code",
   "execution_count": 3,
   "id": "1d6f6038-0ed4-42dc-9fa5-4ede6801564c",
   "metadata": {},
   "outputs": [
    {
     "name": "stdout",
     "output_type": "stream",
     "text": [
      "5\n"
     ]
    }
   ],
   "source": [
    "####String Length\n",
    "\n",
    "s = \"Hello\"\n",
    "print(len(s))"
   ]
  },
  {
   "cell_type": "code",
   "execution_count": 4,
   "id": "c4227048-00e5-4857-93a5-f72efff4e379",
   "metadata": {},
   "outputs": [
    {
     "name": "stdout",
     "output_type": "stream",
     "text": [
      "PYTHON\n",
      "python\n",
      "Python\n"
     ]
    }
   ],
   "source": [
    "#######Converting Case\n",
    "\n",
    "s = \"python\"\n",
    "print(s.upper())\n",
    "print(s.lower())\n",
    "print(s.capitalize())"
   ]
  },
  {
   "cell_type": "code",
   "execution_count": 5,
   "id": "355448c2-ecbc-4b92-9515-c2562af48502",
   "metadata": {},
   "outputs": [
    {
     "name": "stdout",
     "output_type": "stream",
     "text": [
      "7\n",
      "I love java programming\n"
     ]
    }
   ],
   "source": [
    "###############Finding and Replacing\n",
    "\n",
    "s = \"I love Python programming\"\n",
    "print(s.find(\"Python\"))\n",
    "print(s.replace(\"Python\",\"java\"))"
   ]
  },
  {
   "cell_type": "code",
   "execution_count": 8,
   "id": "075ab262-a25f-47fd-92d5-3a825afc87e9",
   "metadata": {},
   "outputs": [
    {
     "name": "stdout",
     "output_type": "stream",
     "text": [
      "['I,love,Python']\n",
      "I,love,Python\n"
     ]
    }
   ],
   "source": [
    "#########Splitting and Joining\n",
    "s = \"I,love,Python\"\n",
    "words = s.split(\" , \")\n",
    "print(words)\n",
    "\n",
    "n_w = \" , \".join(words)\n",
    "print(n_w)"
   ]
  },
  {
   "cell_type": "code",
   "execution_count": 9,
   "id": "6dac76fc-921c-4f82-8be2-54e2a5ebff3b",
   "metadata": {},
   "outputs": [
    {
     "name": "stdout",
     "output_type": "stream",
     "text": [
      "wolleH\n"
     ]
    }
   ],
   "source": [
    "###################Reversing a String\n",
    "\n",
    "k = \"Hellow\"\n",
    "print(k[::-1])"
   ]
  },
  {
   "cell_type": "code",
   "execution_count": null,
   "id": "47022b77-339d-4b8d-8413-70361c5b67ef",
   "metadata": {},
   "outputs": [],
   "source": [
    "####################Checking for Palindromes\n",
    "\n",
    "#####A palindrome is a word, sentence, verse, or even number that reads the same backward or forward. \n",
    "\n"
   ]
  },
  {
   "cell_type": "code",
   "execution_count": 10,
   "id": "bfda2b20-7c92-45f4-9bc1-15cafbaec32f",
   "metadata": {},
   "outputs": [
    {
     "name": "stdout",
     "output_type": "stream",
     "text": [
      "True\n",
      "False\n",
      "True\n",
      "False\n"
     ]
    }
   ],
   "source": [
    "def is_palindrome(s):\n",
    "    return s == s[::-1]\n",
    "\n",
    "print(is_palindrome(\"radar\"))\n",
    "print(is_palindrome(\"python\"))\n",
    "print(is_palindrome(\"88\"))\n",
    "print(is_palindrome(\"1188\"))"
   ]
  },
  {
   "cell_type": "code",
   "execution_count": 11,
   "id": "484cb4fc-639b-4769-baca-dfbf76df5114",
   "metadata": {},
   "outputs": [
    {
     "name": "stdout",
     "output_type": "stream",
     "text": [
      "7\n"
     ]
    }
   ],
   "source": [
    "#########Counting Vowels\n",
    "\n",
    "def count_vowels(s):\n",
    "    vowels =\"aeiou\"\n",
    "    return sum(1 for char in s.lower() if char in vowels)\n",
    "\n",
    "print(count_vowels(\"i love python programming\"))"
   ]
  },
  {
   "cell_type": "code",
   "execution_count": 12,
   "id": "278bbd30-6e51-46e2-95aa-57b22a8fcdb2",
   "metadata": {},
   "outputs": [
    {
     "name": "stdout",
     "output_type": "stream",
     "text": [
      "olleh\n",
      "OR\n",
      "this is your: {'Hello, World!'}\n",
      "this is your: {'!dlroW ,olleH'}\n"
     ]
    }
   ],
   "source": [
    "#######Write a program to reverse a string without using built-in functions.\n",
    "\n",
    "string = \"hello\"\n",
    "print(string[::-1])\n",
    "\n",
    "print(\"OR\")\n",
    "\n",
    "def reverse_string(input_string):\n",
    "    reversed_string = \"\"\n",
    "\n",
    "    for i in range(len(input_string) - 1 ,-1,-1):\n",
    "        reversed_string += input_string[i]\n",
    "\n",
    "    return reversed_string\n",
    "\n",
    "# Example usage\n",
    "original_string = \"Hello, World!\"\n",
    "reverse_result = reverse_string(original_string)\n",
    "print(\"this is your:\", {original_string})\n",
    "print(\"this is your:\", {reverse_result})\n"
   ]
  },
  {
   "cell_type": "code",
   "execution_count": 13,
   "id": "080e3a33-87b0-46a1-9dfa-42e531661d38",
   "metadata": {},
   "outputs": [
    {
     "name": "stdout",
     "output_type": "stream",
     "text": [
      "hbutsuak\n"
     ]
    }
   ],
   "source": [
    "def rev_string(input_string):\n",
    "    k = \"\"\n",
    "\n",
    "    for i in range(len(input_string) -1 , -1,-1):\n",
    "        k += input_string[i]\n",
    "\n",
    "    return k\n",
    "\n",
    "os = \"kaustubh\"\n",
    "rs = rev_string(os) \n",
    "print(rs)       "
   ]
  },
  {
   "cell_type": "code",
   "execution_count": 14,
   "id": "1a3c014b-eff5-446b-b19d-610517610403",
   "metadata": {},
   "outputs": [
    {
     "name": "stdout",
     "output_type": "stream",
     "text": [
      "nohtyp\n"
     ]
    }
   ],
   "source": [
    "def rev_string(input_string):\n",
    "    k = \"\"\n",
    "\n",
    "    for i in range(len(input_string) - 1 ,-1, -1):\n",
    "        \n",
    "        k += input_string[i]\n",
    "\n",
    "    return k\n",
    "os = \"python\"\n",
    "rs = rev_string(os)\n",
    "print(rs)"
   ]
  },
  {
   "cell_type": "code",
   "execution_count": 15,
   "id": "fbfd4b9a-99c7-4089-8931-61c5d4bafae0",
   "metadata": {},
   "outputs": [
    {
     "name": "stdout",
     "output_type": "stream",
     "text": [
      "ia.knihtra\n"
     ]
    }
   ],
   "source": [
    "def rev_string(input_string):\n",
    "    k = \"\"\n",
    "    for i in range(len(input_string)-1,-1,-1):\n",
    "        k += input_string[i]\n",
    "    return k\n",
    "\n",
    "os = \"arthink.ai\"\n",
    "re = rev_string(os)\n",
    "print(re)"
   ]
  },
  {
   "cell_type": "code",
   "execution_count": 16,
   "id": "8cc0e626-6b9c-4cd8-a7c8-9c28f388af15",
   "metadata": {},
   "outputs": [
    {
     "name": "stdout",
     "output_type": "stream",
     "text": [
      "tsitneics atad\n"
     ]
    }
   ],
   "source": [
    "def rev_string(ip_string):\n",
    "     k = \"\"\n",
    "     for i in range(len(ip_string) -1,-1,-1):\n",
    "        k += ip_string[i]\n",
    "     return k\n",
    "os = \"data scientist\"\n",
    "rs = rev_string(os)\n",
    "print(rs)"
   ]
  },
  {
   "cell_type": "code",
   "execution_count": 17,
   "id": "661e3c46-b2a8-47d8-b7b6-43586804a304",
   "metadata": {},
   "outputs": [
    {
     "name": "stdout",
     "output_type": "stream",
     "text": [
      "wolleh\n"
     ]
    }
   ],
   "source": [
    "k = \"hellow\"\n",
    "l= reversed(k)\n",
    "op = ''.join(l)\n",
    "print(op)\n",
    "    \n",
    "    "
   ]
  },
  {
   "cell_type": "code",
   "execution_count": null,
   "id": "e37e60ec-a8d8-4cd5-a357-92ce40d116d5",
   "metadata": {},
   "outputs": [],
   "source": [
    "###print the string in reverse order but change the sequence of word only \n",
    "s = \"python is very easy language to learn\"\n",
    "l= s.split()\n",
    "print(l)\n",
    "k = l[::-1]\n",
    "print(k)\n",
    "t= ' '.join(k)\n",
    "print(t)"
   ]
  },
  {
   "cell_type": "code",
   "execution_count": 18,
   "id": "0f787f2a-6b88-450f-b4a1-ff02e6309ffa",
   "metadata": {},
   "outputs": [
    {
     "name": "stdout",
     "output_type": "stream",
     "text": [
      "['tub']\n",
      "['tub', 'peek']\n",
      "['tub', 'peek', 'meht']\n",
      "['tub', 'peek', 'meht', 'ni']\n",
      "['tub', 'peek', 'meht', 'ni', 'eht']\n",
      "['tub', 'peek', 'meht', 'ni', 'eht', 'emas']\n",
      "['tub', 'peek', 'meht', 'ni', 'eht', 'emas', 'redro']\n",
      "tub peek meht ni eht emas redro\n"
     ]
    }
   ],
   "source": [
    "### write a programe to reverse internal containt of each word??\n",
    "\n",
    "s= \"but keep them in the same order\" \n",
    "l = s.split()\n",
    "k = []\n",
    "for i in l:\n",
    "    k.append(i[::-1])\n",
    "    print(k)\n",
    "t = ' '.join(k)\n",
    "print(t)\n",
    "\n"
   ]
  },
  {
   "cell_type": "code",
   "execution_count": 19,
   "id": "7da75624-71af-4fa0-a26f-f64e87e8ae7c",
   "metadata": {},
   "outputs": [
    {
     "name": "stdout",
     "output_type": "stream",
     "text": [
      "['one']\n",
      "['one', 'owt']\n",
      "['one', 'owt', 'three']\n",
      "['one', 'owt', 'three', 'ruof']\n",
      "['one', 'owt', 'three', 'ruof', 'five']\n",
      "['one', 'owt', 'three', 'ruof', 'five', 'xis']\n",
      "one owt three ruof five xis\n"
     ]
    }
   ],
   "source": [
    "#######write a programme to reverse interval contain of every second word present in the given string.\n",
    "\n",
    "s = \"one two three four five six \"\n",
    "l = s.split()\n",
    "i = 0\n",
    "l1 = []\n",
    "while i<len(l):\n",
    "    if i%2 == 0:\n",
    "        l1.append(l[i])\n",
    "    else:\n",
    "        l1.append(l[i][::-1])\n",
    "    i = i+1\n",
    "    print(l1)\n",
    "op = ' '.join(l1)\n",
    "print(op)"
   ]
  },
  {
   "cell_type": "code",
   "execution_count": 20,
   "id": "db3de755-6e9a-4630-9cc5-439d686f0c57",
   "metadata": {},
   "outputs": [
    {
     "name": "stdout",
     "output_type": "stream",
     "text": [
      "the chara present at even index\n",
      "k\n",
      "u\n",
      "t\n",
      "b\n",
      "p\n",
      "t\n",
      "l\n",
      "the chara present at odd index\n",
      "a\n",
      "s\n",
      "u\n",
      "h\n",
      "a\n",
      "e\n",
      "the chara present at even index kutbptl\n",
      "the chara present at odd index asuhae\n"
     ]
    }
   ],
   "source": [
    "########write a programme to print the chara. present at even & odd index  seperately for the given  string????????????????\n",
    "\n",
    "###enven index\n",
    "s = \"kaustubhpatel\"\n",
    "i = 0\n",
    "print(\"the chara present at even index\")\n",
    "while i<len(s):\n",
    "    print(s[i])\n",
    "    i = i + 2    \n",
    "\n",
    "###odd index\n",
    "s = \"kaustubhpatel\"\n",
    "i = 1 \n",
    "print(\"the chara present at odd index\")\n",
    "while i<len(s):\n",
    "    print(s[i])\n",
    "    i = i+2\n",
    "\n",
    "\n",
    "#################################################\n",
    "\n",
    "k = \"kaustubhpatel\"\n",
    "print(\"the chara present at even index\",k[::2])\n",
    "print(\"the chara present at odd index\",k[1::2])"
   ]
  },
  {
   "cell_type": "code",
   "execution_count": 21,
   "id": "d55887e5-4708-41d3-b25e-e1c4965cfda3",
   "metadata": {},
   "outputs": [
    {
     "name": "stdout",
     "output_type": "stream",
     "text": [
      "['I', 'love', 'Python']\n",
      "['Python', 'love', 'I']\n",
      "Python love I\n"
     ]
    }
   ],
   "source": [
    "######Reverse the order of words in a sentence:\n",
    "\n",
    "s = \"I love Python\"\n",
    "k = s.split()\n",
    "print(k)\n",
    "l = k[::-1]\n",
    "print(l)\n",
    "d = ' '.join(l)\n",
    "print(d)"
   ]
  },
  {
   "cell_type": "code",
   "execution_count": 22,
   "id": "18fba55b-ed09-4f3d-ae9e-2aca7a57e981",
   "metadata": {},
   "outputs": [
    {
     "name": "stdout",
     "output_type": "stream",
     "text": [
      "rtaevjie\n"
     ]
    }
   ],
   "source": [
    "#############  Write a python programme to mearge the chara. of two strings into a single string by taking chara. alternatively.\n",
    "########( THIS CODE IS FOR THE BOTH STING HAVING SAME LENGTH#################\n",
    "s1 ='ravi'\n",
    "s2 = 'teje'\n",
    "i , j = 0,0 \n",
    "output = \"\"\n",
    "while i<len(s1) or j<len(s2):\n",
    "    output= output + s1[i]+s2[j]\n",
    "    i= i+1\n",
    "    j= j+1\n",
    "\n",
    "print(output)"
   ]
  },
  {
   "cell_type": "code",
   "execution_count": null,
   "id": "6d21f5c9-2905-41fe-a4ca-6b5dbbb3695a",
   "metadata": {},
   "outputs": [],
   "source": [
    "#############  Write apython programme to mearge the chara. of two strings into a single string by taking chara. alternatively.\n",
    "########( THIS CODE IS FOR THE BOTH STING DOES NOT HAVING SAME LENGTH#################\n",
    "\n",
    "s1 = 'ravikiran'\n",
    "s2 = 'teja'\n",
    "output = ''\n",
    "i,j = 0,0\n",
    "while i<len(s1) or i<len(s2):\n",
    "    if i<len(s1):\n",
    "        output = output + s1[i]\n",
    "        i = i+1\n",
    "\n",
    "    if j<len(s2):\n",
    "        output = output + s2[j]\n",
    "        j = j + 1\n",
    "print(output)"
   ]
  },
  {
   "cell_type": "code",
   "execution_count": null,
   "id": "5a769031-9abe-4e9c-99e0-965ea2e4fe01",
   "metadata": {},
   "outputs": [],
   "source": [
    "#################   write a python programme to sort chara. of the string , first alphabets symbols folloed by digit...\n",
    "\n",
    "\n",
    "s = \"B4A1D3\"\n",
    "alphabets = []\n",
    "digit = []\n",
    "\n",
    "for ch in s:\n",
    "    if ch.isalpha():\n",
    "        alphabets.append(ch)\n",
    "\n",
    "    else:\n",
    "        digit.append(ch)\n",
    "\n",
    "output = ''.join(sorted(alphabets) + sorted(digit))\n",
    "print (output)\n",
    "        "
   ]
  },
  {
   "cell_type": "code",
   "execution_count": null,
   "id": "f8eea716-bf3e-4aaf-9d26-f5b2982ba317",
   "metadata": {},
   "outputs": [],
   "source": [
    "############################ WAP for following req. input = \"a4b3c2\" output = \"aaaabbbcc\"\n",
    "s = \"a4b3c2\"\n",
    "output = \" \"\n",
    "for ch in s:\n",
    "    if ch.isalpha():\n",
    "        x = ch\n",
    "    else:\n",
    "        d = int(ch)\n",
    "        output = output + x*d\n",
    "\n",
    "print(output)\n"
   ]
  },
  {
   "cell_type": "code",
   "execution_count": null,
   "id": "0ebc2210-11b8-4d77-a356-b12b3bc28836",
   "metadata": {},
   "outputs": [],
   "source": [
    "##########write a prg. for the following requ. input :- \"aaaabbbccz\"  op:- 4a3b2c1z\n",
    "s = \"aaaabbbccz\"\n",
    "previous = s[0]\n",
    "output = ''\n",
    "c = 1\n",
    "i = 1\n",
    "while i < len(s):\n",
    "    if s[i] == previous:\n",
    "        c = c+1\n",
    "    else:\n",
    "        output = output + str(c)+ previous\n",
    "        previous = s[i]\n",
    "        c = 1\n",
    "    if i == len(s)-1:\n",
    "         output = output+str(c)+previous\n",
    "\n",
    "    i = i+1\n",
    "print(output)\n",
    "\n",
    "\n",
    "\n"
   ]
  },
  {
   "cell_type": "code",
   "execution_count": null,
   "id": "8407e005-c2a1-4ceb-87dc-efc50b7a8d90",
   "metadata": {},
   "outputs": [],
   "source": [
    "#Reverse a sentence:\n",
    "#Input: \"I love programming\"\n",
    "s= \"123abc\"\n",
    "\n",
    "l = s[::-1]\n",
    "print(l)"
   ]
  },
  {
   "cell_type": "code",
   "execution_count": null,
   "id": "63da09ca-f31f-441d-a840-bf6a23bd4470",
   "metadata": {},
   "outputs": [],
   "source": [
    "s = 'kaustubh'\n",
    "def is_palindrome(s):\n",
    "    return s== s[::-1]\n",
    "print(is_palindrome(s))    "
   ]
  },
  {
   "cell_type": "code",
   "execution_count": null,
   "id": "6b7d5391-ebc7-4d98-909f-d3dad3e16c97",
   "metadata": {},
   "outputs": [],
   "source": [
    "\n",
    "def is_palindrome(k):\n",
    "    return k == k[::-1]\n",
    "print(is_palindrome(\"madam\"))"
   ]
  },
  {
   "cell_type": "code",
   "execution_count": null,
   "id": "701c5d79-44d8-4523-a5e5-62e63e736513",
   "metadata": {},
   "outputs": [],
   "source": [
    "def is_palindrome(a):\n",
    "    return a==a[::-1]\n",
    "print(is_palindrome(\"radar\"))"
   ]
  },
  {
   "cell_type": "code",
   "execution_count": 1,
   "id": "6938d6ab-b092-4b8f-ab7a-0f59609b1d1f",
   "metadata": {},
   "outputs": [
    {
     "name": "stdout",
     "output_type": "stream",
     "text": [
      "3\n",
      "[1, 2, 3, 4, 5, 6]\n",
      "['apple', 'cherry']\n",
      "not present\n"
     ]
    }
   ],
   "source": [
    "###################################################Create a list with the numbers 1 to 5. Print the third number in the list.###############\n",
    "\n",
    "l1 = [1,2,3,4,5]\n",
    "print(l1[2])\n",
    "\n",
    "############Add the number 6 to the list [1, 2, 3, 4, 5].\n",
    "l = [1,2,3,4,5]\n",
    "l.append(6)\n",
    "print(l)\n",
    "\n",
    "########Remove the second item from this list: [\"apple\", \"banana\", \"cherry\"]\n",
    "k = [\"apple\", \"banana\", \"cherry\"]\n",
    "del k[1]\n",
    "print(k)\n",
    "\n",
    "####################Check if the number 3 exists in the list [1, 2, 4, 5].\n",
    "\n",
    "l2 = [1, 2, 4, 5]\n",
    "if 3 in l2:\n",
    "    print(\"present\")\n",
    "\n",
    "else:\n",
    "    print(\"not present\")\n"
   ]
  },
  {
   "cell_type": "code",
   "execution_count": 95,
   "id": "165c77e1-1fe1-4940-aeaf-1f596b206fd9",
   "metadata": {},
   "outputs": [
    {
     "name": "stdout",
     "output_type": "stream",
     "text": [
      "[40, 30, 20, 10]\n",
      "[1, 1, 3, 4, 5, 9]\n",
      "smallest element is 1\n",
      "largest element is 9\n",
      "[1, 2, 3, 4, 5, 6]\n",
      "[9, 5, 3, 2, 1]\n"
     ]
    }
   ],
   "source": [
    "###########Reverse the list [10, 20, 30, 40].\n",
    "k = [10, 20, 30, 40]\n",
    "h = k.reverse()\n",
    "print(k)\n",
    "\n",
    "###########Find the largest and smallest number in the list [3, 1, 4, 1, 5, 9]\n",
    "mylist = [3,1,4,1,5,9]\n",
    "mylist.sort()\n",
    "print(mylist)\n",
    "print(\"smallest element is\", mylist[0])\n",
    "print(\"largest element is\", mylist[-1])\n",
    "\n",
    "##################Combine two lists: [1, 2, 3] and [4,5,6]\n",
    "lk = [1, 2, 3]\n",
    "ll = [4,5,6]\n",
    "o = lk + ll\n",
    "print (o)\n",
    "\n",
    "#######################Sort this list in descending order: [5, 2, 9, 1, 3]\n",
    "\n",
    "num = [5, 2, 9, 1, 3]\n",
    "num.sort(reverse=True)\n",
    "print(num)"
   ]
  },
  {
   "cell_type": "code",
   "execution_count": null,
   "id": "fc9fca06-3f1a-4073-acd2-37a5d32ebf93",
   "metadata": {},
   "outputs": [],
   "source": [
    "################Remove all duplicate values from the list [1, 2, 2, 3, 4, 4, 5]\n",
    "\n",
    "l = [1, 2, 2, 3, 4, 4, 5]\n",
    "c= []\n",
    "for i in l:\n",
    "    if i not in c:\n",
    "        c.append(i)\n",
    "    \n",
    "print(c)"
   ]
  },
  {
   "cell_type": "code",
   "execution_count": null,
   "id": "2398ecb1-f0f7-47ea-baa5-7dfd3afa99ef",
   "metadata": {},
   "outputs": [],
   "source": [
    "#########Count how many times apple appears in the list [\"apple\", \"banana\", \"apple\", \"cherry\", \"apple\"]\n",
    "\n",
    "\n",
    "f = [\"apple\", \"banana\", \"apple\", \"cherry\", \"apple\"]\n",
    "count = 0\n",
    "for i in f:\n",
    "    if \"apple\" == i:\n",
    "        count += 1\n",
    "print(count)\n"
   ]
  },
  {
   "cell_type": "code",
   "execution_count": null,
   "id": "d3dedf66-36d1-48d1-b3d3-960b2f5209af",
   "metadata": {},
   "outputs": [],
   "source": [
    "############Write a program that finds all the even numbers in a list like [1, 2, 3, 4, 5, 6]\n",
    "l = [1, 2, 3, 4, 5, 6]\n",
    "k= []\n",
    "for i in l:\n",
    "    if i%2 == 0:\n",
    "        k.append(i)\n",
    "\n",
    "print(k)\n"
   ]
  },
  {
   "cell_type": "code",
   "execution_count": null,
   "id": "78b42f1d-d6b8-4ab4-ad73-6355ea5f1ce0",
   "metadata": {},
   "outputs": [],
   "source": [
    "########Create a list of your favorite 5 movies and print them one by one using a loop.\n",
    "\n",
    "m = ['krish', 'FF1' , 'HP1' , 'RHTDM' , 'DH4' ]\n",
    "\n",
    "for i in m:\n",
    "    print(i)"
   ]
  },
  {
   "cell_type": "code",
   "execution_count": null,
   "id": "9e2c825d-0c28-4a8a-914c-3db98f30170f",
   "metadata": {},
   "outputs": [],
   "source": [
    "###########Replace the 3rd item in the list [10, 20, 30, 40, 50] with 99.\n",
    "\n",
    "k = [10, 20, 30, 40, 50]\n",
    "k[2]=99\n",
    "print(k)"
   ]
  },
  {
   "cell_type": "code",
   "execution_count": null,
   "id": "b9b5ddb1-0bc0-4604-9d29-ed4bd55fa02a",
   "metadata": {},
   "outputs": [],
   "source": [
    "################Find the index of the number 7 in the list [1, 4, 7, 9, 7].\n",
    "c =  [1, 4, 7, 9, 7]\n",
    "\n",
    "k = []\n",
    "\n",
    "for index , value in enumerate(c):\n",
    "    if value == 7:\n",
    "        k.append(index)\n",
    "\n",
    "print(k)\n"
   ]
  },
  {
   "cell_type": "code",
   "execution_count": null,
   "id": "c7801e7a-a30e-40e7-b7ba-97199adb4a74",
   "metadata": {},
   "outputs": [],
   "source": [
    "##########Split this string \"apple,banana,cherry\" into a list of items.\n",
    "s = \"apple,banana,cherry\"\n",
    "l = s.split(\",\")\n",
    "print(l)"
   ]
  },
  {
   "cell_type": "code",
   "execution_count": null,
   "id": "2b578c0d-f297-4851-92c1-8bea765da512",
   "metadata": {},
   "outputs": [],
   "source": [
    "###########Combine the lists [1, 2, 3] and [4, 5, 6] without using the + operator\n",
    "l1 = [1, 2, 3]\n",
    "l2 = [4, 5, 6]\n",
    "l1.extend(l2)\n",
    "print(l1)\n",
    "\n"
   ]
  },
  {
   "cell_type": "code",
   "execution_count": null,
   "id": "969cc112-7b6a-48a1-b115-5d1c0235b393",
   "metadata": {},
   "outputs": [],
   "source": [
    "# Two lists\n",
    "l1 = [1, 2, 3]\n",
    "l2 = [4, 5, 6]\n",
    "\n",
    "# Loop through list2 and append each item to list1\n",
    "for i in l2:\n",
    "    l1.append(i)\n",
    "\n",
    "# Print the result\n",
    "print(l1)"
   ]
  },
  {
   "cell_type": "code",
   "execution_count": null,
   "id": "2bd7a465-d752-4c19-af72-310d715b81d8",
   "metadata": {},
   "outputs": [],
   "source": [
    "#######Write a program to copy a list without using .copy() or slicing.\n",
    "x = [1, 2, 3, 4, 5, 6]\n",
    "s= []\n",
    "for i in x:\n",
    "    s.append(i)\n",
    "\n",
    "\n",
    "print(s)"
   ]
  },
  {
   "cell_type": "code",
   "execution_count": null,
   "id": "68977aae-bfe1-4fad-9085-45b2654f1a49",
   "metadata": {},
   "outputs": [],
   "source": [
    "#####Sort this list: [\"zebra\", \"apple\", \"mango\", \"banana\"] in alphabetical order.\n",
    "\n",
    "p = [\"zebra\", \"apple\", \"mango\", \"banana\"]\n",
    "p.sort()\n",
    "\n",
    "print(p)"
   ]
  },
  {
   "cell_type": "code",
   "execution_count": null,
   "id": "b9486b96-b8a5-4905-97bc-1ced13604acb",
   "metadata": {},
   "outputs": [],
   "source": [
    "#######Count how many times each element appears in the list [1, 2, 2, 3, 3, 3, 4, 4, 4, 4]\n",
    "\n",
    "z= [1, 2, 2, 3, 3, 3, 4, 4, 4, 4]\n",
    "count = {}\n",
    "for i in z:\n",
    "    if i in count:\n",
    "        count[i]+=1\n",
    "    else:\n",
    "        count[i] = 1\n",
    "\n",
    "print(count)\n",
    "\n",
    "############## OR ###############\n",
    "from collections import Counter\n",
    "\n",
    "l = Counter(z)\n",
    "print(l)\n"
   ]
  },
  {
   "cell_type": "code",
   "execution_count": null,
   "id": "25d15bac-c5ce-4038-8cf4-aae32d9b662d",
   "metadata": {},
   "outputs": [],
   "source": [
    "                                                    ########for loop ###########################\n"
   ]
  },
  {
   "cell_type": "code",
   "execution_count": null,
   "id": "24bb14f6-8e1a-4194-904c-4827be81681e",
   "metadata": {},
   "outputs": [],
   "source": [
    "##Create a list of your favorite foods (e.g., [\"Pizza\", \"Burger\", \"Pasta\", \"Ice cream\"]) and use a for loop to print each food item.\n",
    "\n",
    "food = [\"Pizza\", \"Burger\", \"Pasta\", \"Ice cream\"]\n",
    "for i in food:\n",
    "    print(i)"
   ]
  },
  {
   "cell_type": "code",
   "execution_count": null,
   "id": "d218cd85-b9bc-416d-aec9-af844ac7b873",
   "metadata": {},
   "outputs": [],
   "source": [
    "##Use a for loop to print the squares of numbers from 1 to 10. (i.e., print 1^2, 2^2, 3^2, etc.)\n",
    "squaer = [x**2 for x in range(1 ,11)]\n",
    "print(squaer)\n",
    "\n"
   ]
  },
  {
   "cell_type": "code",
   "execution_count": null,
   "id": "2107752f-02eb-4284-a824-d6764757af98",
   "metadata": {},
   "outputs": [],
   "source": [
    "##Create a dictionary with the following key-value pairs: {\"name\": \"Kaustubh\", \"age\": 25, \"city\": \"Mumbai\"}. Loop through the dictionary and print each key and its corresponding value.\n",
    "\n",
    "dt= {\"name\": \"Kaustubh\", \"age\": 25, \"city\": \"Mumbai\"}\n",
    "for key , value in dt.items():\n",
    "    print(key,value)\n",
    "\n"
   ]
  },
  {
   "cell_type": "code",
   "execution_count": null,
   "id": "10e08291-ca6a-48b2-beb4-a95870cac81b",
   "metadata": {},
   "outputs": [],
   "source": [
    "person = {\"name\": \"Alice\", \"age\": 30, \"job\": \"Engineer\"}\n",
    "for key, value in person.items():\n",
    "    print(key,value)"
   ]
  },
  {
   "cell_type": "code",
   "execution_count": null,
   "id": "b4bf15f0-8c65-458a-8175-c460fcaff8d2",
   "metadata": {},
   "outputs": [],
   "source": [
    "word_count = {\"hello\": 5, \"world\": 3, \"python\": 7}\n",
    "for key,value in word_count.items():\n",
    "    print(key,value)"
   ]
  },
  {
   "cell_type": "code",
   "execution_count": null,
   "id": "a692a462-2c2e-492f-9127-6c21999d64cc",
   "metadata": {},
   "outputs": [],
   "source": [
    "#######print the number from 1 to 100 using while loop.\n",
    "i = 1\n",
    "while  i<=100:\n",
    "    print(i)\n",
    "    i+=1\n",
    "    \n",
    "\n",
    "\n"
   ]
  },
  {
   "cell_type": "code",
   "execution_count": null,
   "id": "d08f9cda-2289-47f5-88ee-a752186e4b3c",
   "metadata": {},
   "outputs": [],
   "source": [
    "#######print the number from 100 to 1 using while loop.\n",
    "i = 100\n",
    "while i>=1:\n",
    "    print(i)\n",
    "    i-=1\n"
   ]
  },
  {
   "cell_type": "code",
   "execution_count": null,
   "id": "378e2f67-2c27-43ee-9ffc-0d101505b856",
   "metadata": {},
   "outputs": [],
   "source": [
    "#######print the multiplication table of a number n\n",
    "i = 1\n",
    "while i<=10:\n",
    "    print(3*i)\n",
    "    i += 1\n",
    "\n"
   ]
  },
  {
   "cell_type": "code",
   "execution_count": null,
   "id": "1b84d4c4-6ae5-4f17-b114-556fa27996b7",
   "metadata": {},
   "outputs": [],
   "source": [
    "####print the element of the following list using a loop...\n",
    "k= [1,4,9,16,25,36,49,68,81,100]\n",
    "\n",
    "idx = 0\n",
    "while idx <(len(k)):\n",
    "    print(k[idx])\n",
    "    idx +=1\n"
   ]
  },
  {
   "cell_type": "code",
   "execution_count": null,
   "id": "96b98138-09f3-4211-8fc8-dea10ca7c367",
   "metadata": {},
   "outputs": [],
   "source": [
    "c = [1,4,9,16,25,36,49,68,81,100,110,120]\n",
    "i = 0\n",
    "while i<(len(c)):\n",
    "    print(c[i])\n",
    "    i += 1\n",
    "    "
   ]
  },
  {
   "cell_type": "code",
   "execution_count": null,
   "id": "ca779fea-f966-4343-a0c0-81a1cda90491",
   "metadata": {},
   "outputs": [],
   "source": [
    "d = [1,99,66,69,4,9,16,25,36,49,68,81,100,110,120]\n",
    "i = 0\n",
    "while i<(len(d)):\n",
    "    print(d[i])\n",
    "    i+=1"
   ]
  },
  {
   "cell_type": "code",
   "execution_count": null,
   "id": "76fe4775-d056-4874-ad99-9b318bb45686",
   "metadata": {},
   "outputs": [],
   "source": [
    "######search for number X in this tuple using loop\n",
    "d = (1,99,66,69,4,9,16,25,36,49,68,81,100,110,120)\n",
    "x = 36\n",
    "i = 0\n",
    "while i<(len(d)):\n",
    "    if (d[i]==x):\n",
    "        print(\"found at index\",i)\n",
    "    i+=1\n"
   ]
  },
  {
   "cell_type": "code",
   "execution_count": 5,
   "id": "5e9f7e44-ed08-40b0-ad0c-1fe8e7238a08",
   "metadata": {},
   "outputs": [
    {
     "name": "stdout",
     "output_type": "stream",
     "text": [
      "['apple', 'banana', 'mango', 'cherry', 'ghava']\n",
      "banana\n",
      "ghava\n"
     ]
    }
   ],
   "source": [
    "#####Create and Access Elements\n",
    "\"\"\"Create a list of your 5 favorite fruits.\n",
    "Print the second fruit in the list.\n",
    "Print the last fruit using negative indexing.\"\"\"\n",
    "\n",
    "list1 = ['apple','banana','mango','cherry','ghava']\n",
    "print(list1)\n",
    "print(list1[1])\n",
    "print(list1[-1])\n"
   ]
  },
  {
   "cell_type": "code",
   "execution_count": 9,
   "id": "af07db2c-2652-4740-9c88-994d85d92cd8",
   "metadata": {},
   "outputs": [
    {
     "name": "stdout",
     "output_type": "stream",
     "text": [
      "[10, 25, 40, 50, 60]\n"
     ]
    }
   ],
   "source": [
    "\"\"\"Create a list of numbers: [10, 20, 30, 40, 50].\n",
    "Add the number 60 to the list.\n",
    "Remove the number 30 from the list.\n",
    "Replace the second element with 25.\n",
    "Print the updated list.\"\"\"\n",
    "\n",
    "l2 = [10, 20, 30, 40, 50]\n",
    "l2.append(60)\n",
    "l2.remove(30)\n",
    "l2[1]=25\n",
    "print(l2)"
   ]
  },
  {
   "cell_type": "code",
   "execution_count": 10,
   "id": "2c9b3e4b-7964-4d0a-9829-009c8606514c",
   "metadata": {},
   "outputs": [
    {
     "name": "stdout",
     "output_type": "stream",
     "text": [
      "red\n",
      "blue\n",
      "green\n"
     ]
    }
   ],
   "source": [
    "#####Write a program to print each element of the list [\"red\", \"blue\", \"green\"] on a new line.\n",
    "\n",
    "c= [\"red\", \"blue\", \"green\"]\n",
    "for i in c:\n",
    "    print(i)"
   ]
  },
  {
   "cell_type": "code",
   "execution_count": 31,
   "id": "bd2f36f3-e85f-4463-9065-7f77208c1fef",
   "metadata": {},
   "outputs": [
    {
     "name": "stdout",
     "output_type": "stream",
     "text": [
      "sum of list 75\n",
      "15.0\n"
     ]
    }
   ],
   "source": [
    "\"\"\"Sum and Average\n",
    "\n",
    "Create a list of numbers: [5, 10, 15, 20, 25].\n",
    "Write a program to calculate and print:\n",
    "The sum of the numbers.\n",
    "The average of the numbers.\"\"\"\n",
    "\n",
    "s = [5, 10, 15, 20, 25]\n",
    "sum = 0\n",
    "for i in s:\n",
    "    sum = sum + i\n",
    "print(\"sum of list\",sum)\n",
    "\n",
    "sum1 = sum/len(s)\n",
    "\n",
    "print(sum1)\n"
   ]
  },
  {
   "cell_type": "code",
   "execution_count": 39,
   "id": "98f1b8db-d3a9-4990-bbc6-57ffeff93979",
   "metadata": {},
   "outputs": [
    {
     "name": "stdout",
     "output_type": "stream",
     "text": [
      "8\n",
      "2\n"
     ]
    }
   ],
   "source": [
    "#####Write a program to find and print the largest and smallest numbers in the list [3, 7, 2, 8, 5].\n",
    "\n",
    "k = [3, 7, 2, 8, 5]\n",
    "\n",
    "print(max(k))\n",
    "print(min(k))"
   ]
  },
  {
   "cell_type": "code",
   "execution_count": 45,
   "id": "aed9ca57-358c-4815-b9a3-5742e0615789",
   "metadata": {},
   "outputs": [
    {
     "name": "stdout",
     "output_type": "stream",
     "text": [
      "this is ascending order: [1, 3, 4, 7, 8]\n",
      "[8, 7, 4, 3, 1]\n"
     ]
    }
   ],
   "source": [
    "######Write a program to:\n",
    "\"\"\"Sort the list [4, 1, 8, 3, 7] in ascending order.\n",
    "Sort the same list in descending order.\"\"\"\n",
    "\n",
    "x = [4, 1, 8, 3, 7]\n",
    "x.sort()\n",
    "print(\"this is ascending order:\",(x))\n",
    "x.sort(reverse=True)\n",
    "print(x)\n",
    "\n"
   ]
  },
  {
   "cell_type": "code",
   "execution_count": 48,
   "id": "9c758a12-f60f-4b0b-8525-6f8475f5568f",
   "metadata": {},
   "outputs": [
    {
     "name": "stdout",
     "output_type": "stream",
     "text": [
      "[1, 2, 3, 4, 5]\n"
     ]
    }
   ],
   "source": [
    "###Write a program to remove duplicate elements from the list [1, 2, 2, 3, 4, 4, 5] and print the updated list\n",
    "l =[1, 2, 2, 3, 4, 4, 5]\n",
    "k = []\n",
    "for i in l:\n",
    "    if i  not in  k:\n",
    "        k.append(i)\n",
    "\n",
    "print(k)"
   ]
  },
  {
   "cell_type": "code",
   "execution_count": 70,
   "id": "d695d3f7-5571-4005-9b4c-0f2c0dbbfe9b",
   "metadata": {},
   "outputs": [
    {
     "name": "stdout",
     "output_type": "stream",
     "text": [
      "list is palindrome\n"
     ]
    }
   ],
   "source": [
    "#####Palindrome Check , Write a program that checks if the list [\"a\", \"b\", \"c\", \"b\", \"a\"] is a palindrome (reads the same forward and backward).\n",
    "l = [\"a\", \"b\", \"c\", \"b\", \"a\"]\n",
    "if l==l[::-1]:\n",
    "    print(\"list is palindrome\")\n",
    "else:\n",
    "    print(\"not\")"
   ]
  },
  {
   "cell_type": "code",
   "execution_count": 75,
   "id": "2575ea00-91c4-4c0a-b381-cad9a05b3d53",
   "metadata": {},
   "outputs": [
    {
     "name": "stdout",
     "output_type": "stream",
     "text": [
      "[1, 4, 9, 16, 25, 36, 49, 64, 81, 100]\n",
      "[2, 4]\n"
     ]
    }
   ],
   "source": [
    "\"\"\"List Comprehension\n",
    "Use list comprehension to create a list of squares for numbers 1 to 10.\n",
    "Create a new list from [1, 2, 3, 4, 5] that contains only even numbers.\"\"\"\n",
    "\n",
    "cord = [x**2 for x in range(1,11)]\n",
    "print(cord)\n",
    "\n",
    "df = [1, 2, 3, 4, 5]\n",
    "c= [x for x in df if x%2==0]\n",
    "print(c)\n",
    "\n"
   ]
  },
  {
   "cell_type": "code",
   "execution_count": 80,
   "id": "271b9b4f-5708-48ee-b1f2-c73f00cdd2cd",
   "metadata": {},
   "outputs": [
    {
     "name": "stdout",
     "output_type": "stream",
     "text": [
      "6\n"
     ]
    }
   ],
   "source": [
    "\"\"\"Represent a 3x3 matrix using a list of lists:\n",
    "[[1, 2, 3],\n",
    " [4, 5, 6],\n",
    " [7, 8, 9]]\n",
    "Print the element at row 2, column 3.\"\"\"\n",
    "\n",
    "m = [\n",
    "    [1, 2, 3],\n",
    "    [4, 5, 6],\n",
    "    [7, 8, 9]\n",
    "]\n",
    "k=m[1][2]\n",
    "print(k)"
   ]
  },
  {
   "cell_type": "code",
   "execution_count": 86,
   "id": "216d784e-a429-4993-985d-f1d8c7808759",
   "metadata": {},
   "outputs": [
    {
     "name": "stdout",
     "output_type": "stream",
     "text": [
      "[3, 4, 5]\n"
     ]
    }
   ],
   "source": [
    "###Write a program to find the common elements between two lists:\n",
    "list1 = [1, 2, 3, 4, 5]\n",
    "list2 = [3, 4, 5, 6, 7]\n",
    "\n",
    "k = []\n",
    "for i in list1:\n",
    "    if i in list2:\n",
    "        k.append(i)\n",
    "\n",
    "print(k)"
   ]
  },
  {
   "cell_type": "code",
   "execution_count": 90,
   "id": "bfeefcc6-183c-436a-b893-88246d99cc5d",
   "metadata": {},
   "outputs": [
    {
     "name": "stdout",
     "output_type": "stream",
     "text": [
      "[2, 3, 5, 7]\n"
     ]
    }
   ],
   "source": [
    "#Prime Numbers in a List\n",
    "#Write a program to find all prime numbers in the list [2, 3, 4, 5, 6, 7, 8, 9, 10].\n",
    "\n",
    "l = [2, 3, 4, 5, 6, 7, 8, 9, 10]\n",
    "prime =[]\n",
    "for i in l:\n",
    "    c=0\n",
    "    for j in range(1,i+1):\n",
    "        if i%j==0:\n",
    "            c+=1\n",
    "        \n",
    "    if c==2:\n",
    "        prime.append(i)\n",
    "\n",
    "print(prime)\n",
    "        "
   ]
  },
  {
   "cell_type": "code",
   "execution_count": 91,
   "id": "564ebb53-ed74-4d1d-88f6-ebf872fbd011",
   "metadata": {},
   "outputs": [
    {
     "name": "stdout",
     "output_type": "stream",
     "text": [
      "0 puspha\n",
      "1 rhtdm\n",
      "2 hulk\n",
      "3 im\n"
     ]
    }
   ],
   "source": [
    "\"\"\"Index and Element Display\n",
    "\n",
    "Create a list of your favorite movies.\n",
    "Write a program to display each movie with its index using enumerate().\"\"\"\n",
    "\n",
    "m = ['puspha','rhtdm','hulk','im']\n",
    "for i,m in enumerate(m):\n",
    "    print(i,m)"
   ]
  },
  {
   "cell_type": "code",
   "execution_count": 92,
   "id": "6750559c-bb72-4fef-ae18-de64be8b8dcc",
   "metadata": {},
   "outputs": [
    {
     "name": "stdout",
     "output_type": "stream",
     "text": [
      "0 P\n",
      "1 Y\n",
      "2 T\n",
      "3 H\n",
      "4 O\n",
      "5 N\n"
     ]
    }
   ],
   "source": [
    "####Write a program to display each character of the string \"PYTHON\" with its index using enumerate().\n",
    "\n",
    "st = \"PYTHON\"\n",
    "for i,char in enumerate(st):\n",
    "    print(i,char)"
   ]
  },
  {
   "cell_type": "code",
   "execution_count": 93,
   "id": "0ceaeb24-c11a-4925-8410-aa7e02f33a28",
   "metadata": {},
   "outputs": [
    {
     "name": "stdout",
     "output_type": "stream",
     "text": [
      "100 10\n",
      "101 20\n",
      "102 30\n",
      "103 40\n",
      "104 50\n"
     ]
    }
   ],
   "source": [
    "\"\"\"Create a list of numbers: [10, 20, 30, 40, 50].\n",
    "Use enumerate() to print the numbers with indices starting from 100.\"\"\"\n",
    "\n",
    "lt = [10, 20, 30, 40, 50]\n",
    "for i, lt in enumerate(lt,start=100):\n",
    "    print(i,lt)"
   ]
  },
  {
   "cell_type": "code",
   "execution_count": 94,
   "id": "78be2854-3bb2-402e-bd47-3aa314c9a19a",
   "metadata": {},
   "outputs": [
    {
     "name": "stdout",
     "output_type": "stream",
     "text": [
      "0 [5, 15, 25, 35] 5\n",
      "1 [5, 15, 25, 35] 16\n",
      "2 [5, 15, 25, 35] 27\n",
      "3 [5, 15, 25, 35] 38\n"
     ]
    }
   ],
   "source": [
    "########Given the list [5, 15, 25, 35], use enumerate() to print the sum of each element and its index.\n",
    "\n",
    "k = [5, 15, 25, 35]\n",
    "for i,value in enumerate(k):\n",
    "    r = i + value\n",
    "    print(i,k,r)\n"
   ]
  },
  {
   "cell_type": "code",
   "execution_count": 99,
   "id": "5ab75b46-8f65-4a64-9183-446b966da533",
   "metadata": {},
   "outputs": [
    {
     "name": "stdout",
     "output_type": "stream",
     "text": [
      "[25, 10, 5, 1]\n"
     ]
    }
   ],
   "source": [
    "######Given a value, return the optimal number of coins [1,5,10,25] to make the value.\n",
    "\n",
    "coin = [1,5,10,25]\n",
    "coin.sort(reverse = True)\n",
    "print(coin)\n"
   ]
  },
  {
   "cell_type": "code",
   "execution_count": 104,
   "id": "97f80d45-24b2-4a7f-b2bd-e6b65acf2d0b",
   "metadata": {},
   "outputs": [
    {
     "name": "stdout",
     "output_type": "stream",
     "text": [
      "{25: 3, 10: 1, 5: 0, 1: 3}\n"
     ]
    }
   ],
   "source": [
    "def get_coins(values):\n",
    "    coins = [25, 10, 5, 1]\n",
    "    r ={}\n",
    "    for i in coins:\n",
    "        count = values//i\n",
    "        r[i]=count\n",
    "        values%= i\n",
    "\n",
    "    return r\n",
    "\n",
    "values = 88\n",
    "result = get_coins(values)\n",
    "print(result)"
   ]
  },
  {
   "cell_type": "code",
   "execution_count": null,
   "id": "4c244fea-a69f-4a62-af35-2074720d9aff",
   "metadata": {},
   "outputs": [],
   "source": []
  },
  {
   "cell_type": "code",
   "execution_count": null,
   "id": "416885df-b835-4644-a9bd-95304830a924",
   "metadata": {},
   "outputs": [],
   "source": []
  },
  {
   "cell_type": "code",
   "execution_count": null,
   "id": "e8f35969-010b-4597-bd8f-eafe9c09017f",
   "metadata": {},
   "outputs": [],
   "source": []
  },
  {
   "cell_type": "code",
   "execution_count": null,
   "id": "dba73abc-3fd1-4d91-8a43-7c307fe909ae",
   "metadata": {},
   "outputs": [],
   "source": []
  },
  {
   "cell_type": "code",
   "execution_count": null,
   "id": "515ef401-5be1-48db-bd35-91e47e4a2410",
   "metadata": {},
   "outputs": [],
   "source": []
  },
  {
   "cell_type": "code",
   "execution_count": null,
   "id": "c4cd060f-0a3b-4da2-82ba-70a2fb8cbb70",
   "metadata": {},
   "outputs": [],
   "source": []
  },
  {
   "cell_type": "code",
   "execution_count": null,
   "id": "51d456b5-d50c-43c3-aaac-a95fc9b27203",
   "metadata": {},
   "outputs": [],
   "source": []
  },
  {
   "cell_type": "code",
   "execution_count": null,
   "id": "8e68ebf6-7625-4f79-bd31-1767aec4e466",
   "metadata": {},
   "outputs": [],
   "source": []
  },
  {
   "cell_type": "code",
   "execution_count": null,
   "id": "0f5330c5-90a0-4b01-951b-1d9cad45bb1e",
   "metadata": {},
   "outputs": [],
   "source": []
  }
 ],
 "metadata": {
  "kernelspec": {
   "display_name": "Python 3 (ipykernel)",
   "language": "python",
   "name": "python3"
  },
  "language_info": {
   "codemirror_mode": {
    "name": "ipython",
    "version": 3
   },
   "file_extension": ".py",
   "mimetype": "text/x-python",
   "name": "python",
   "nbconvert_exporter": "python",
   "pygments_lexer": "ipython3",
   "version": "3.12.7"
  }
 },
 "nbformat": 4,
 "nbformat_minor": 5
}
